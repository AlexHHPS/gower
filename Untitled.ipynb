{
 "cells": [
  {
   "cell_type": "code",
   "execution_count": null,
   "metadata": {},
   "outputs": [],
   "source": []
  },
  {
   "cell_type": "code",
   "execution_count": 1,
   "metadata": {},
   "outputs": [],
   "source": [
    "import numpy as np\n",
    "import pandas as pd\n",
    "Xd=pd.DataFrame({'age':[21,21,19, 30,21,21,19,30,None],\n",
    "'gender':['M','M','N','M','F','F','F','F',None],\n",
    "'civil_status':['MARRIED','SINGLE','SINGLE','SINGLE','MARRIED','SINGLE','WIDOW','DIVORCED',None],\n",
    "'salary':[3000.0,1200.0 ,32000.0,1800.0 ,2900.0 ,1100.0 ,10000.0,1500.0,None],\n",
    "'has_children':[1,0,1,1,1,0,0,1,None],\n",
    "'available_credit':[2200,100,22000,1100,2000,100,6000,2200,None]})\n",
    "Yd = Xd.iloc[1:3,:]\n",
    "X = np.asarray(Xd)\n",
    "Y = np.asarray(Yd)\n",
    "from scipy.sparse import issparse"
   ]
  },
  {
   "cell_type": "code",
   "execution_count": 2,
   "metadata": {},
   "outputs": [
    {
     "data": {
      "text/plain": [
       "(array([[21.0, 'M', 'MARRIED', 3000.0, 1.0, 2200.0],\n",
       "        [21.0, 'M', 'SINGLE', 1200.0, 0.0, 100.0],\n",
       "        [19.0, 'N', 'SINGLE', 32000.0, 1.0, 22000.0],\n",
       "        [30.0, 'M', 'SINGLE', 1800.0, 1.0, 1100.0],\n",
       "        [21.0, 'F', 'MARRIED', 2900.0, 1.0, 2000.0],\n",
       "        [21.0, 'F', 'SINGLE', 1100.0, 0.0, 100.0],\n",
       "        [19.0, 'F', 'WIDOW', 10000.0, 0.0, 6000.0],\n",
       "        [30.0, 'F', 'DIVORCED', 1500.0, 1.0, 2200.0],\n",
       "        [nan, None, None, nan, nan, nan]], dtype=object),\n",
       " array([[21.0, 'M', 'SINGLE', 1200.0, 0.0, 100.0],\n",
       "        [19.0, 'N', 'SINGLE', 32000.0, 1.0, 22000.0]], dtype=object))"
      ]
     },
     "execution_count": 2,
     "metadata": {},
     "output_type": "execute_result"
    }
   ],
   "source": [
    "X, Y"
   ]
  },
  {
   "cell_type": "code",
   "execution_count": 3,
   "metadata": {},
   "outputs": [],
   "source": [
    "all = np.concatenate((X,X))"
   ]
  },
  {
   "cell_type": "code",
   "execution_count": null,
   "metadata": {},
   "outputs": [],
   "source": []
  },
  {
   "cell_type": "code",
   "execution_count": 142,
   "metadata": {},
   "outputs": [],
   "source": [
    "from scipy.sparse import issparse\n",
    "import numpy as np\n",
    "import pandas as pd\n",
    "\n",
    "def gower_matrix(data_x, data_y=None, weight=None, cat_features=None):  \n",
    "    \n",
    "    # function checks\n",
    "    X = data_x\n",
    "    if data_y is None: Y = data_x \n",
    "    else: Y = data_y \n",
    "    if not isinstance(X, np.ndarray): \n",
    "        if not np.array_equal(X.columns, Y.columns): raise TypeError(\"X and Y must have same columns!\")   \n",
    "    else: \n",
    "         if not X.shape[1] == Y.shape[1]: raise TypeError(\"X and Y must have same y-dim!\")  \n",
    "                \n",
    "    if issparse(X) or issparse(Y): raise TypeError(\"Sparse matrices are not supported!\")        \n",
    "            \n",
    "    x_n_rows, x_n_cols = X.shape\n",
    "    y_n_rows, y_n_cols = Y.shape \n",
    "    \n",
    "    if cat_features is None:\n",
    "        if not isinstance(X, np.ndarray): \n",
    "            is_number = np.vectorize(lambda x: not np.issubdtype(x, np.number))\n",
    "            cat_features = is_number(X.dtypes)    \n",
    "        else:\n",
    "            cat_features = np.zeros(x_n_cols, dtype=bool)\n",
    "            for col in range(x_n_cols):\n",
    "                if not np.issubdtype(type(X[0, col]), np.number):\n",
    "                    cat_features[col]=True\n",
    "    else:          \n",
    "        cat_features = np.array(cat_features)\n",
    "    \n",
    "    # print(cat_features)\n",
    "    \n",
    "    if not isinstance(X, np.ndarray): X = np.asarray(X)\n",
    "    if not isinstance(Y, np.ndarray): Y = np.asarray(Y)\n",
    "    \n",
    "    Z = np.concatenate((X,Y))\n",
    "    \n",
    "    x_index = range(0,x_n_rows)\n",
    "    y_index = range(x_n_rows,x_n_rows+y_n_rows)\n",
    "    \n",
    "    Z_num = Z[:,np.logical_not(cat_features)]\n",
    "    \n",
    "    num_cols = Z_num.shape[1]\n",
    "    num_ranges = np.zeros(num_cols)\n",
    "    num_max = np.zeros(num_cols)\n",
    "    \n",
    "    for col in range(num_cols):\n",
    "        col_array = Z_num[:, col].astype(np.float32) \n",
    "        max = np.nanmax(col_array)\n",
    "        min = np.nanmin(col_array)\n",
    "     \n",
    "        if np.isnan(max):\n",
    "            max = 0.0\n",
    "        if np.isnan(min):\n",
    "            min = 0.0\n",
    "        num_max[col] = max\n",
    "        num_ranges[col] = (1 - min / max) if (max != 0) else 0.0\n",
    "\n",
    "    # This is to normalize the numeric values between 0 and 1.\n",
    "    Z_num = np.divide(Z_num ,num_max,out=np.zeros_like(Z_num), where=num_max!=0)\n",
    "    Z_cat = Z[:,cat_features]\n",
    "    \n",
    "    if weight is None:\n",
    "        weight = np.ones(Z.shape[1])\n",
    "        \n",
    "    #print(weight)    \n",
    "    \n",
    "    weight_cat=weight[cat_features]\n",
    "    weight_num=weight[np.logical_not(cat_features)]   \n",
    "        \n",
    "    out = np.zeros((x_n_rows, y_n_rows), dtype=np.float32)\n",
    "        \n",
    "    weight_sum = weight.sum()\n",
    "    \n",
    "    X_cat = Z_cat[x_index,]\n",
    "    X_num = Z_num[x_index,]\n",
    "    Y_cat = Z_cat[y_index,]\n",
    "    Y_num = Z_num[y_index,]\n",
    "    \n",
    "   # print(X_cat,X_num,Y_cat,Y_num)\n",
    "    \n",
    "    for i in range(x_n_rows):          \n",
    "        j_start= i        \n",
    "        if x_n_rows != y_n_rows:\n",
    "            j_start = 0\n",
    "        # call the main function\n",
    "        res = gower_get(X_cat[i,:], \n",
    "                          X_num[i,:],\n",
    "                          Y_cat[j_start:y_n_rows,:],\n",
    "                          Y_num[j_start:y_n_rows,:],\n",
    "                          weight_cat,\n",
    "                          weight_num,\n",
    "                          weight_sum,\n",
    "                          cat_features,\n",
    "                          num_ranges,\n",
    "                          num_max) \n",
    "        #print(res)\n",
    "        out[i,j_start:]=res\n",
    "        if x_n_rows == y_n_rows: out[i:,j_start]=res\n",
    "        \n",
    "    return out\n",
    "\n",
    "\n",
    "def gower_get(xi_cat,xi_num,xj_cat,xj_num,feature_weight_cat,\n",
    "              feature_weight_num,feature_weight_sum,categorical_features,\n",
    "              ranges_of_numeric,max_of_numeric ):\n",
    "    \n",
    "    # categorical columns\n",
    "    sij_cat = np.where(xi_cat == xj_cat,np.zeros_like(xi_cat),np.ones_like(xi_cat))\n",
    "    sum_cat = np.multiply(feature_weight_cat,sij_cat).sum(axis=1) \n",
    "\n",
    "    # numerical columns\n",
    "    abs_delta=np.absolute(xi_num-xj_num)\n",
    "    sij_num=np.divide(abs_delta, ranges_of_numeric, out=np.zeros_like(abs_delta), where=ranges_of_numeric!=0)\n",
    "\n",
    "    sum_num = np.multiply(feature_weight_num,sij_num).sum(axis=1)\n",
    "    sums= np.add(sum_cat,sum_num)\n",
    "    sum_sij = np.divide(sums,feature_weight_sum)\n",
    "    \n",
    "    return sum_sij\n",
    "\n",
    "def smallest_indices(ary, n):\n",
    "    \"\"\"Returns the n largest indices from a numpy array.\"\"\"\n",
    "    n += 1\n",
    "    flat = np.nan_to_num(ary.flatten(), nan=999)\n",
    "    indices = np.argpartition(-flat, -n)[-n:]\n",
    "    indices = indices[np.argsort(flat[indices])]\n",
    "    indices = np.delete(indices,0,0)\n",
    "    values = flat[indices]\n",
    "    return {'index': indices, 'values': values}\n",
    "\n",
    "def gower_topn(data_x, data_y=None, weight=None, cat_features=None, n = 5):\n",
    "    \n",
    "    if data_x.shape[0] >= 2: TypeError(\"Only support `data_x` of 1 row. \")  \n",
    "    dm = gower_matrix(data_x, data_y, weight, cat_features)\n",
    "          \n",
    "    return smallest_indices(np.nan_to_num(aaa[0], nan=1),n)\n"
   ]
  },
  {
   "cell_type": "code",
   "execution_count": 143,
   "metadata": {},
   "outputs": [
    {
     "data": {
      "text/html": [
       "<div>\n",
       "<style scoped>\n",
       "    .dataframe tbody tr th:only-of-type {\n",
       "        vertical-align: middle;\n",
       "    }\n",
       "\n",
       "    .dataframe tbody tr th {\n",
       "        vertical-align: top;\n",
       "    }\n",
       "\n",
       "    .dataframe thead th {\n",
       "        text-align: right;\n",
       "    }\n",
       "</style>\n",
       "<table border=\"1\" class=\"dataframe\">\n",
       "  <thead>\n",
       "    <tr style=\"text-align: right;\">\n",
       "      <th></th>\n",
       "      <th>0</th>\n",
       "      <th>1</th>\n",
       "      <th>2</th>\n",
       "      <th>3</th>\n",
       "      <th>4</th>\n",
       "      <th>5</th>\n",
       "      <th>6</th>\n",
       "      <th>7</th>\n",
       "      <th>8</th>\n",
       "    </tr>\n",
       "  </thead>\n",
       "  <tbody>\n",
       "    <tr>\n",
       "      <th>0</th>\n",
       "      <td>0.000000</td>\n",
       "      <td>0.359024</td>\n",
       "      <td>0.670740</td>\n",
       "      <td>0.317874</td>\n",
       "      <td>0.168728</td>\n",
       "      <td>0.526230</td>\n",
       "      <td>0.596979</td>\n",
       "      <td>0.477788</td>\n",
       "      <td>NaN</td>\n",
       "    </tr>\n",
       "    <tr>\n",
       "      <th>1</th>\n",
       "      <td>0.359024</td>\n",
       "      <td>0.000000</td>\n",
       "      <td>0.696430</td>\n",
       "      <td>0.313877</td>\n",
       "      <td>0.523629</td>\n",
       "      <td>0.167206</td>\n",
       "      <td>0.456002</td>\n",
       "      <td>0.653964</td>\n",
       "      <td>NaN</td>\n",
       "    </tr>\n",
       "    <tr>\n",
       "      <th>2</th>\n",
       "      <td>0.670740</td>\n",
       "      <td>0.696430</td>\n",
       "      <td>0.000000</td>\n",
       "      <td>0.655281</td>\n",
       "      <td>0.672801</td>\n",
       "      <td>0.696970</td>\n",
       "      <td>0.740428</td>\n",
       "      <td>0.815194</td>\n",
       "      <td>NaN</td>\n",
       "    </tr>\n",
       "    <tr>\n",
       "      <th>3</th>\n",
       "      <td>0.317874</td>\n",
       "      <td>0.313877</td>\n",
       "      <td>0.655281</td>\n",
       "      <td>0.000000</td>\n",
       "      <td>0.482479</td>\n",
       "      <td>0.481083</td>\n",
       "      <td>0.748186</td>\n",
       "      <td>0.343323</td>\n",
       "      <td>NaN</td>\n",
       "    </tr>\n",
       "    <tr>\n",
       "      <th>4</th>\n",
       "      <td>0.168728</td>\n",
       "      <td>0.523629</td>\n",
       "      <td>0.672801</td>\n",
       "      <td>0.482479</td>\n",
       "      <td>0.000000</td>\n",
       "      <td>0.357502</td>\n",
       "      <td>0.432373</td>\n",
       "      <td>0.312104</td>\n",
       "      <td>NaN</td>\n",
       "    </tr>\n",
       "    <tr>\n",
       "      <th>5</th>\n",
       "      <td>0.526230</td>\n",
       "      <td>0.167206</td>\n",
       "      <td>0.696970</td>\n",
       "      <td>0.481083</td>\n",
       "      <td>0.357502</td>\n",
       "      <td>0.000000</td>\n",
       "      <td>0.289875</td>\n",
       "      <td>0.487836</td>\n",
       "      <td>NaN</td>\n",
       "    </tr>\n",
       "    <tr>\n",
       "      <th>6</th>\n",
       "      <td>0.596979</td>\n",
       "      <td>0.456002</td>\n",
       "      <td>0.740428</td>\n",
       "      <td>0.748186</td>\n",
       "      <td>0.432373</td>\n",
       "      <td>0.289875</td>\n",
       "      <td>0.000000</td>\n",
       "      <td>0.574766</td>\n",
       "      <td>NaN</td>\n",
       "    </tr>\n",
       "    <tr>\n",
       "      <th>7</th>\n",
       "      <td>0.477788</td>\n",
       "      <td>0.653964</td>\n",
       "      <td>0.815194</td>\n",
       "      <td>0.343323</td>\n",
       "      <td>0.312104</td>\n",
       "      <td>0.487836</td>\n",
       "      <td>0.574766</td>\n",
       "      <td>0.000000</td>\n",
       "      <td>NaN</td>\n",
       "    </tr>\n",
       "    <tr>\n",
       "      <th>8</th>\n",
       "      <td>NaN</td>\n",
       "      <td>NaN</td>\n",
       "      <td>NaN</td>\n",
       "      <td>NaN</td>\n",
       "      <td>NaN</td>\n",
       "      <td>NaN</td>\n",
       "      <td>NaN</td>\n",
       "      <td>NaN</td>\n",
       "      <td>NaN</td>\n",
       "    </tr>\n",
       "  </tbody>\n",
       "</table>\n",
       "</div>"
      ],
      "text/plain": [
       "          0         1         2         3         4         5         6  \\\n",
       "0  0.000000  0.359024  0.670740  0.317874  0.168728  0.526230  0.596979   \n",
       "1  0.359024  0.000000  0.696430  0.313877  0.523629  0.167206  0.456002   \n",
       "2  0.670740  0.696430  0.000000  0.655281  0.672801  0.696970  0.740428   \n",
       "3  0.317874  0.313877  0.655281  0.000000  0.482479  0.481083  0.748186   \n",
       "4  0.168728  0.523629  0.672801  0.482479  0.000000  0.357502  0.432373   \n",
       "5  0.526230  0.167206  0.696970  0.481083  0.357502  0.000000  0.289875   \n",
       "6  0.596979  0.456002  0.740428  0.748186  0.432373  0.289875  0.000000   \n",
       "7  0.477788  0.653964  0.815194  0.343323  0.312104  0.487836  0.574766   \n",
       "8       NaN       NaN       NaN       NaN       NaN       NaN       NaN   \n",
       "\n",
       "          7   8  \n",
       "0  0.477788 NaN  \n",
       "1  0.653964 NaN  \n",
       "2  0.815194 NaN  \n",
       "3  0.343323 NaN  \n",
       "4  0.312104 NaN  \n",
       "5  0.487836 NaN  \n",
       "6  0.574766 NaN  \n",
       "7  0.000000 NaN  \n",
       "8       NaN NaN  "
      ]
     },
     "execution_count": 143,
     "metadata": {},
     "output_type": "execute_result"
    }
   ],
   "source": [
    "pd.DataFrame(gower_matrix(X))"
   ]
  },
  {
   "cell_type": "code",
   "execution_count": 1,
   "metadata": {},
   "outputs": [],
   "source": [
    "import numpy as np\n",
    "import pandas as pd\n",
    "import gower\n",
    "\n",
    "Xd=pd.DataFrame({'age':[21,21,19, 30,21,21,19,30,None],\n",
    "'gender':['M','M','N','M','F','F','F','F',None],\n",
    "'civil_status':['MARRIED','SINGLE','SINGLE','SINGLE','MARRIED','SINGLE','WIDOW','DIVORCED',None],\n",
    "'salary':[3000.0,1200.0 ,32000.0,1800.0 ,2900.0 ,1100.0 ,10000.0,1500.0,None],\n",
    "'has_children':[1,0,1,1,1,0,0,1,None],\n",
    "'available_credit':[2200,100,22000,1100,2000,100,6000,2200,None]})\n",
    "Yd = Xd.iloc[1:3,:]\n",
    "X = np.asarray(Xd)\n",
    "Y = np.asarray(Yd)\n"
   ]
  },
  {
   "cell_type": "code",
   "execution_count": 2,
   "metadata": {},
   "outputs": [
    {
     "data": {
      "text/plain": [
       "{'index': array([4, 3, 1, 7, 5]),\n",
       " 'values': array([0.16872811, 0.31787416, 0.3590238 , 0.47778758, 0.52622986],\n",
       "       dtype=float32)}"
      ]
     },
     "execution_count": 2,
     "metadata": {},
     "output_type": "execute_result"
    }
   ],
   "source": [
    "gower.gower_topn(Xd.iloc[0:2,:], Xd.iloc[:,], n = 5)"
   ]
  },
  {
   "cell_type": "code",
   "execution_count": 137,
   "metadata": {},
   "outputs": [
    {
     "data": {
      "text/plain": [
       "(2, 6)"
      ]
     },
     "execution_count": 137,
     "metadata": {},
     "output_type": "execute_result"
    }
   ],
   "source": [
    "Xd.iloc[0:2,:].shape"
   ]
  },
  {
   "cell_type": "code",
   "execution_count": 5,
   "metadata": {},
   "outputs": [
    {
     "data": {
      "text/plain": [
       "array([[0.        , 0.3590238 , 0.6707398 , 0.31787416, 0.16872811,\n",
       "        0.52622986, 0.59697855, 0.47778758,        nan],\n",
       "       [0.3590238 , 0.        , 0.6964303 , 0.3138769 , 0.523629  ,\n",
       "        0.16720603, 0.45600235, 0.6539635 ,        nan],\n",
       "       [0.6707398 , 0.6964303 , 0.        , 0.6552807 , 0.6728013 ,\n",
       "        0.6969697 , 0.740428  , 0.8151941 ,        nan],\n",
       "       [0.31787416, 0.3138769 , 0.6552807 , 0.        , 0.4824794 ,\n",
       "        0.48108295, 0.74818605, 0.34332284,        nan],\n",
       "       [0.16872811, 0.523629  , 0.6728013 , 0.4824794 , 0.        ,\n",
       "        0.35750175, 0.43237334, 0.3121036 ,        nan],\n",
       "       [0.52622986, 0.16720603, 0.6969697 , 0.48108295, 0.35750175,\n",
       "        0.        , 0.2898751 , 0.4878362 ,        nan],\n",
       "       [0.59697855, 0.45600235, 0.740428  , 0.74818605, 0.43237334,\n",
       "        0.2898751 , 0.        , 0.57476616,        nan],\n",
       "       [0.47778758, 0.6539635 , 0.8151941 , 0.34332284, 0.3121036 ,\n",
       "        0.4878362 , 0.57476616, 0.        ,        nan],\n",
       "       [       nan,        nan,        nan,        nan,        nan,\n",
       "               nan,        nan,        nan,        nan]], dtype=float32)"
      ]
     },
     "execution_count": 5,
     "metadata": {},
     "output_type": "execute_result"
    }
   ],
   "source": [
    "gower.gower_matrix(X)"
   ]
  },
  {
   "cell_type": "code",
   "execution_count": 134,
   "metadata": {},
   "outputs": [
    {
     "data": {
      "text/plain": [
       "array([[0.        , 0.3590238 , 0.6707398 , 0.31787416, 0.16872811,\n",
       "        0.52622986, 0.59697855, 0.47778758,        nan],\n",
       "       [0.3590238 , 0.        , 0.6964303 , 0.3138769 , 0.523629  ,\n",
       "        0.16720603, 0.45600235, 0.6539635 ,        nan]], dtype=float32)"
      ]
     },
     "execution_count": 134,
     "metadata": {},
     "output_type": "execute_result"
    }
   ],
   "source": [
    "aaa"
   ]
  },
  {
   "cell_type": "code",
   "execution_count": 138,
   "metadata": {},
   "outputs": [],
   "source": [
    "def smallest_indices(ary, n):\n",
    "    \"\"\"Returns the n largest indices from a numpy array.\"\"\"\n",
    "    n += 1\n",
    "    flat = np.nan_to_num(ary.flatten(), nan=999)\n",
    "    indices = np.argpartition(-flat, -n)[-n:]\n",
    "    indices = indices[np.argsort(flat[indices])]\n",
    "    indices = np.delete(indices,0,0)\n",
    "    values = flat[indices]\n",
    "    return {'index': indices, 'values': values}"
   ]
  },
  {
   "cell_type": "code",
   "execution_count": 139,
   "metadata": {},
   "outputs": [],
   "source": [
    "out = smallest_indices(np.nan_to_num(aaa[1], nan=1),3)"
   ]
  },
  {
   "cell_type": "code",
   "execution_count": 140,
   "metadata": {},
   "outputs": [
    {
     "data": {
      "text/plain": [
       "{'index': array([5, 3, 0]),\n",
       " 'values': array([0.16720603, 0.3138769 , 0.3590238 ], dtype=float32)}"
      ]
     },
     "execution_count": 140,
     "metadata": {},
     "output_type": "execute_result"
    }
   ],
   "source": [
    "out"
   ]
  },
  {
   "cell_type": "code",
   "execution_count": 125,
   "metadata": {},
   "outputs": [
    {
     "data": {
      "text/plain": [
       "array([[21.0, 'M', 'SINGLE', 1200.0, 0.0, 100.0],\n",
       "       [21.0, 'F', 'SINGLE', 1100.0, 0.0, 100.0],\n",
       "       [30.0, 'M', 'SINGLE', 1800.0, 1.0, 1100.0]], dtype=object)"
      ]
     },
     "execution_count": 125,
     "metadata": {},
     "output_type": "execute_result"
    }
   ],
   "source": [
    "X[out['index'],:]"
   ]
  },
  {
   "cell_type": "code",
   "execution_count": 126,
   "metadata": {},
   "outputs": [
    {
     "data": {
      "text/plain": [
       "array([[21.0, 'M', 'MARRIED', 3000.0, 1.0, 2200.0],\n",
       "       [21.0, 'M', 'SINGLE', 1200.0, 0.0, 100.0],\n",
       "       [19.0, 'N', 'SINGLE', 32000.0, 1.0, 22000.0],\n",
       "       [30.0, 'M', 'SINGLE', 1800.0, 1.0, 1100.0],\n",
       "       [21.0, 'F', 'MARRIED', 2900.0, 1.0, 2000.0],\n",
       "       [21.0, 'F', 'SINGLE', 1100.0, 0.0, 100.0],\n",
       "       [19.0, 'F', 'WIDOW', 10000.0, 0.0, 6000.0],\n",
       "       [30.0, 'F', 'DIVORCED', 1500.0, 1.0, 2200.0],\n",
       "       [nan, None, None, nan, nan, nan]], dtype=object)"
      ]
     },
     "execution_count": 126,
     "metadata": {},
     "output_type": "execute_result"
    }
   ],
   "source": [
    "X"
   ]
  },
  {
   "cell_type": "code",
   "execution_count": 128,
   "metadata": {},
   "outputs": [
    {
     "data": {
      "text/plain": [
       "array([0.        , 0.3590238 , 0.6707398 , 0.31787416, 0.16872811,\n",
       "       0.52622986, 0.59697855, 0.47778758,        nan], dtype=float32)"
      ]
     },
     "execution_count": 128,
     "metadata": {},
     "output_type": "execute_result"
    }
   ],
   "source": [
    "numpy.delete"
   ]
  },
  {
   "cell_type": "code",
   "execution_count": null,
   "metadata": {},
   "outputs": [],
   "source": []
  }
 ],
 "metadata": {
  "kernelspec": {
   "display_name": "Python 3",
   "language": "python",
   "name": "python3"
  },
  "language_info": {
   "codemirror_mode": {
    "name": "ipython",
    "version": 3
   },
   "file_extension": ".py",
   "mimetype": "text/x-python",
   "name": "python",
   "nbconvert_exporter": "python",
   "pygments_lexer": "ipython3",
   "version": "3.7.3"
  }
 },
 "nbformat": 4,
 "nbformat_minor": 4
}
